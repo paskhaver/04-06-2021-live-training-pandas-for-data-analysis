{
 "cells": [
  {
   "cell_type": "markdown",
   "metadata": {},
   "source": [
    "## Jupyter Notebook Cell Execution"
   ]
  },
  {
   "cell_type": "code",
   "execution_count": 1,
   "metadata": {},
   "outputs": [
    {
     "data": {
      "text/plain": [
       "2"
      ]
     },
     "execution_count": 1,
     "metadata": {},
     "output_type": "execute_result"
    }
   ],
   "source": [
    "1 + 1"
   ]
  },
  {
   "cell_type": "code",
   "execution_count": 2,
   "metadata": {},
   "outputs": [
    {
     "data": {
      "text/plain": [
       "6"
      ]
     },
     "execution_count": 2,
     "metadata": {},
     "output_type": "execute_result"
    }
   ],
   "source": [
    "2 + 2\n",
    "3 + 3"
   ]
  },
  {
   "cell_type": "markdown",
   "metadata": {},
   "source": [
    "## Import Pandas"
   ]
  },
  {
   "cell_type": "code",
   "execution_count": 3,
   "metadata": {},
   "outputs": [
    {
     "data": {
      "text/plain": [
       "'1.2.0'"
      ]
     },
     "execution_count": 3,
     "metadata": {},
     "output_type": "execute_result"
    }
   ],
   "source": [
    "import pandas as pd\n",
    "\n",
    "pd.__version__"
   ]
  },
  {
   "cell_type": "markdown",
   "metadata": {},
   "source": [
    "## Create Series Object"
   ]
  },
  {
   "cell_type": "code",
   "execution_count": 4,
   "metadata": {},
   "outputs": [
    {
     "data": {
      "text/plain": [
       "0     Chocolate\n",
       "1       Vanilla\n",
       "2    Strawberry\n",
       "3    Rum Raisin\n",
       "dtype: object"
      ]
     },
     "execution_count": 4,
     "metadata": {},
     "output_type": "execute_result"
    }
   ],
   "source": [
    "# Series - 1 dimensional data structure\n",
    "#   \n",
    "#  A  Pepsi\n",
    "#  B  Coke\n",
    "#  C  Dr. Pepper\n",
    "\n",
    "# DataFrame - 2 dimensional data structure\n",
    "#\n",
    "#        1             2                   3\n",
    "#  A  Pepsi        Diet Pepsi         Cherry Pepsi\n",
    "#  B  Coke         Diet Coke          Cherry Coke\n",
    "#  C  Dr. Pepper   Diet Dr. Pepper   Cherry Dr. Pepper\n",
    "\n",
    "ice_cream_flavors = [\"Chocolate\", \"Vanilla\", \"Strawberry\", \"Rum Raisin\"]\n",
    "\n",
    "pd.Series(ice_cream_flavors)"
   ]
  },
  {
   "cell_type": "markdown",
   "metadata": {},
   "source": [
    "## Parameters and Arguments"
   ]
  },
  {
   "cell_type": "code",
   "execution_count": 5,
   "metadata": {},
   "outputs": [
    {
     "data": {
      "text/plain": [
       "0     Chocolate\n",
       "1       Vanilla\n",
       "2    Strawberry\n",
       "3    Rum Raisin\n",
       "dtype: object"
      ]
     },
     "execution_count": 5,
     "metadata": {},
     "output_type": "execute_result"
    }
   ],
   "source": [
    "pd.Series(data = ice_cream_flavors)"
   ]
  },
  {
   "cell_type": "code",
   "execution_count": 6,
   "metadata": {},
   "outputs": [
    {
     "data": {
      "text/plain": [
       "Monday        Chocolate\n",
       "Wednesday       Vanilla\n",
       "Friday       Strawberry\n",
       "Saturday     Rum Raisin\n",
       "dtype: object"
      ]
     },
     "execution_count": 6,
     "metadata": {},
     "output_type": "execute_result"
    }
   ],
   "source": [
    "ice_cream_flavors = [\"Chocolate\", \"Vanilla\", \"Strawberry\", \"Rum Raisin\"]\n",
    "day_of_week = [\"Monday\", \"Wednesday\", \"Friday\", \"Saturday\"]\n",
    "\n",
    "pd.Series(ice_cream_flavors, day_of_week)\n",
    "\n",
    "pd.Series(data = ice_cream_flavors, index = day_of_week)"
   ]
  },
  {
   "cell_type": "markdown",
   "metadata": {},
   "source": [
    "## Another Series Example"
   ]
  },
  {
   "cell_type": "code",
   "execution_count": 7,
   "metadata": {},
   "outputs": [
    {
     "data": {
      "text/plain": [
       "0     4\n",
       "1     8\n",
       "2    15\n",
       "3    16\n",
       "4    23\n",
       "5    42\n",
       "dtype: int64"
      ]
     },
     "execution_count": 7,
     "metadata": {},
     "output_type": "execute_result"
    }
   ],
   "source": [
    "lucky_numbers = [4, 8, 15, 16, 23, 42]\n",
    "\n",
    "pd.Series(lucky_numbers)"
   ]
  },
  {
   "cell_type": "markdown",
   "metadata": {},
   "source": [
    "## Importing CSV Dataset"
   ]
  },
  {
   "cell_type": "code",
   "execution_count": 8,
   "metadata": {},
   "outputs": [
    {
     "data": {
      "text/plain": [
       "Pokemon\n",
       "Bulbasaur      Grass / Poison\n",
       "Ivysaur        Grass / Poison\n",
       "Venusaur       Grass / Poison\n",
       "Charmander               Fire\n",
       "Charmeleon               Fire\n",
       "                    ...      \n",
       "Stakataka        Rock / Steel\n",
       "Blacephalon      Fire / Ghost\n",
       "Zeraora              Electric\n",
       "Meltan                  Steel\n",
       "Melmetal                Steel\n",
       "Name: Type, Length: 809, dtype: object"
      ]
     },
     "execution_count": 8,
     "metadata": {},
     "output_type": "execute_result"
    }
   ],
   "source": [
    "pd.read_csv(\"pokemon.csv\", index_col = \"Pokemon\", squeeze = True)"
   ]
  },
  {
   "cell_type": "code",
   "execution_count": 9,
   "metadata": {},
   "outputs": [],
   "source": [
    "pokemon = pd.read_csv(\"pokemon.csv\", index_col = \"Pokemon\", squeeze = True)"
   ]
  },
  {
   "cell_type": "code",
   "execution_count": 10,
   "metadata": {},
   "outputs": [
    {
     "data": {
      "text/plain": [
       "Pokemon\n",
       "Bulbasaur      Grass / Poison\n",
       "Ivysaur        Grass / Poison\n",
       "Venusaur       Grass / Poison\n",
       "Charmander               Fire\n",
       "Charmeleon               Fire\n",
       "                    ...      \n",
       "Stakataka        Rock / Steel\n",
       "Blacephalon      Fire / Ghost\n",
       "Zeraora              Electric\n",
       "Meltan                  Steel\n",
       "Melmetal                Steel\n",
       "Name: Type, Length: 809, dtype: object"
      ]
     },
     "execution_count": 10,
     "metadata": {},
     "output_type": "execute_result"
    }
   ],
   "source": [
    "pokemon"
   ]
  },
  {
   "cell_type": "markdown",
   "metadata": {},
   "source": [
    "## Previewing a Series"
   ]
  },
  {
   "cell_type": "code",
   "execution_count": 11,
   "metadata": {},
   "outputs": [
    {
     "data": {
      "text/plain": [
       "Pokemon\n",
       "Bulbasaur    Grass / Poison\n",
       "Name: Type, dtype: object"
      ]
     },
     "execution_count": 11,
     "metadata": {},
     "output_type": "execute_result"
    }
   ],
   "source": [
    "pokemon.head()\n",
    "pokemon.head(6)\n",
    "\n",
    "pokemon.head(1)\n",
    "pokemon.head(n = 1)"
   ]
  },
  {
   "cell_type": "code",
   "execution_count": 12,
   "metadata": {},
   "outputs": [
    {
     "data": {
      "text/plain": [
       "Pokemon\n",
       "Melmetal    Steel\n",
       "Name: Type, dtype: object"
      ]
     },
     "execution_count": 12,
     "metadata": {},
     "output_type": "execute_result"
    }
   ],
   "source": [
    "pokemon.tail()\n",
    "\n",
    "pokemon.tail(8)\n",
    "\n",
    "pokemon.tail(1)"
   ]
  },
  {
   "cell_type": "code",
   "execution_count": null,
   "metadata": {},
   "outputs": [],
   "source": []
  },
  {
   "cell_type": "code",
   "execution_count": null,
   "metadata": {},
   "outputs": [],
   "source": []
  },
  {
   "cell_type": "markdown",
   "metadata": {},
   "source": [
    "## Sorting a Series by Values"
   ]
  },
  {
   "cell_type": "code",
   "execution_count": 13,
   "metadata": {},
   "outputs": [
    {
     "data": {
      "text/plain": [
       "Pokemon\n",
       "Illumise                Bug\n",
       "Silcoon                 Bug\n",
       "Pinsir                  Bug\n",
       "Burmy                   Bug\n",
       "Wurmple                 Bug\n",
       "                  ...      \n",
       "Tirtouga       Water / Rock\n",
       "Relicanth      Water / Rock\n",
       "Corsola        Water / Rock\n",
       "Carracosta     Water / Rock\n",
       "Empoleon      Water / Steel\n",
       "Name: Type, Length: 809, dtype: object"
      ]
     },
     "execution_count": 13,
     "metadata": {},
     "output_type": "execute_result"
    }
   ],
   "source": [
    "pokemon.sort_values()\n",
    "pokemon.sort_values(ascending = True)"
   ]
  },
  {
   "cell_type": "code",
   "execution_count": 14,
   "metadata": {},
   "outputs": [
    {
     "data": {
      "text/plain": [
       "Pokemon\n",
       "Empoleon      Water / Steel\n",
       "Corsola        Water / Rock\n",
       "Relicanth      Water / Rock\n",
       "Carracosta     Water / Rock\n",
       "Tirtouga       Water / Rock\n",
       "                  ...      \n",
       "Kricketune              Bug\n",
       "Cascoon                 Bug\n",
       "Scatterbug              Bug\n",
       "Kricketot               Bug\n",
       "Grubbin                 Bug\n",
       "Name: Type, Length: 809, dtype: object"
      ]
     },
     "execution_count": 14,
     "metadata": {},
     "output_type": "execute_result"
    }
   ],
   "source": [
    "pokemon.sort_values(ascending = False)"
   ]
  },
  {
   "cell_type": "markdown",
   "metadata": {},
   "source": [
    "## Sorting a Series by Index"
   ]
  },
  {
   "cell_type": "code",
   "execution_count": 15,
   "metadata": {},
   "outputs": [
    {
     "data": {
      "text/plain": [
       "Pokemon\n",
       "Bulbasaur     Grass / Poison\n",
       "Ivysaur       Grass / Poison\n",
       "Venusaur      Grass / Poison\n",
       "Charmander              Fire\n",
       "Charmeleon              Fire\n",
       "Name: Type, dtype: object"
      ]
     },
     "execution_count": 15,
     "metadata": {},
     "output_type": "execute_result"
    }
   ],
   "source": [
    "pokemon.head()"
   ]
  },
  {
   "cell_type": "code",
   "execution_count": 16,
   "metadata": {},
   "outputs": [
    {
     "data": {
      "text/plain": [
       "Pokemon\n",
       "Abomasnow        Grass / Ice\n",
       "Abra                 Psychic\n",
       "Absol                   Dark\n",
       "Accelgor                 Bug\n",
       "Aegislash      Steel / Ghost\n",
       "                  ...       \n",
       "Zoroark                 Dark\n",
       "Zorua                   Dark\n",
       "Zubat        Poison / Flying\n",
       "Zweilous       Dark / Dragon\n",
       "Zygarde      Dragon / Ground\n",
       "Name: Type, Length: 809, dtype: object"
      ]
     },
     "execution_count": 16,
     "metadata": {},
     "output_type": "execute_result"
    }
   ],
   "source": [
    "pokemon.sort_index()\n",
    "pokemon.sort_index(ascending = True)"
   ]
  },
  {
   "cell_type": "code",
   "execution_count": 17,
   "metadata": {},
   "outputs": [
    {
     "data": {
      "text/plain": [
       "Pokemon\n",
       "Zygarde      Dragon / Ground\n",
       "Zweilous       Dark / Dragon\n",
       "Zubat        Poison / Flying\n",
       "Zorua                   Dark\n",
       "Zoroark                 Dark\n",
       "                  ...       \n",
       "Aegislash      Steel / Ghost\n",
       "Accelgor                 Bug\n",
       "Absol                   Dark\n",
       "Abra                 Psychic\n",
       "Abomasnow        Grass / Ice\n",
       "Name: Type, Length: 809, dtype: object"
      ]
     },
     "execution_count": 17,
     "metadata": {},
     "output_type": "execute_result"
    }
   ],
   "source": [
    "pokemon.sort_index(ascending = False)"
   ]
  },
  {
   "cell_type": "markdown",
   "metadata": {},
   "source": [
    "## The `inplace` Parameter"
   ]
  },
  {
   "cell_type": "code",
   "execution_count": 18,
   "metadata": {},
   "outputs": [],
   "source": [
    "pokemon.sort_values(inplace = True)"
   ]
  },
  {
   "cell_type": "code",
   "execution_count": 19,
   "metadata": {},
   "outputs": [
    {
     "data": {
      "text/plain": [
       "Pokemon\n",
       "Illumise    Bug\n",
       "Silcoon     Bug\n",
       "Pinsir      Bug\n",
       "Burmy       Bug\n",
       "Wurmple     Bug\n",
       "Name: Type, dtype: object"
      ]
     },
     "execution_count": 19,
     "metadata": {},
     "output_type": "execute_result"
    }
   ],
   "source": [
    "pokemon.head()"
   ]
  },
  {
   "cell_type": "code",
   "execution_count": 20,
   "metadata": {},
   "outputs": [],
   "source": [
    "pokemon.sort_index(inplace = True)"
   ]
  },
  {
   "cell_type": "code",
   "execution_count": 21,
   "metadata": {},
   "outputs": [
    {
     "data": {
      "text/plain": [
       "Pokemon\n",
       "Abomasnow      Grass / Ice\n",
       "Abra               Psychic\n",
       "Absol                 Dark\n",
       "Accelgor               Bug\n",
       "Aegislash    Steel / Ghost\n",
       "Name: Type, dtype: object"
      ]
     },
     "execution_count": 21,
     "metadata": {},
     "output_type": "execute_result"
    }
   ],
   "source": [
    "pokemon.head()"
   ]
  },
  {
   "cell_type": "markdown",
   "metadata": {},
   "source": [
    "## The `value_counts` Method"
   ]
  },
  {
   "cell_type": "code",
   "execution_count": 22,
   "metadata": {},
   "outputs": [
    {
     "data": {
      "text/plain": [
       "Pokemon\n",
       "Abomasnow      Grass / Ice\n",
       "Abra               Psychic\n",
       "Absol                 Dark\n",
       "Accelgor               Bug\n",
       "Aegislash    Steel / Ghost\n",
       "Name: Type, dtype: object"
      ]
     },
     "execution_count": 22,
     "metadata": {},
     "output_type": "execute_result"
    }
   ],
   "source": [
    "pokemon.head()"
   ]
  },
  {
   "cell_type": "code",
   "execution_count": 23,
   "metadata": {},
   "outputs": [
    {
     "data": {
      "text/plain": [
       "Normal               65\n",
       "Water                61\n",
       "Grass                38\n",
       "Psychic              35\n",
       "Fire                 30\n",
       "                     ..\n",
       "Psychic / Grass       1\n",
       "Fighting / Flying     1\n",
       "Steel / Fighting      1\n",
       "Fire / Psychic        1\n",
       "Ghost / Dark          1\n",
       "Name: Type, Length: 159, dtype: int64"
      ]
     },
     "execution_count": 23,
     "metadata": {},
     "output_type": "execute_result"
    }
   ],
   "source": [
    "pokemon.value_counts()\n",
    "pokemon.value_counts(ascending = False)"
   ]
  },
  {
   "cell_type": "code",
   "execution_count": 24,
   "metadata": {},
   "outputs": [
    {
     "data": {
      "text/plain": [
       "Ghost / Dragon     1\n",
       "Ghost / Dark       1\n",
       "Fire / Dragon      1\n",
       "Rock / Dark        1\n",
       "Grass / Ground     1\n",
       "                  ..\n",
       "Fire              30\n",
       "Psychic           35\n",
       "Grass             38\n",
       "Water             61\n",
       "Normal            65\n",
       "Name: Type, Length: 159, dtype: int64"
      ]
     },
     "execution_count": 24,
     "metadata": {},
     "output_type": "execute_result"
    }
   ],
   "source": [
    "pokemon.value_counts(ascending = True)"
   ]
  },
  {
   "cell_type": "code",
   "execution_count": 25,
   "metadata": {},
   "outputs": [
    {
     "data": {
      "text/plain": [
       "Normal               8.034611\n",
       "Water                7.540173\n",
       "Grass                4.697157\n",
       "Psychic              4.326329\n",
       "Fire                 3.708282\n",
       "                       ...   \n",
       "Psychic / Grass      0.123609\n",
       "Fighting / Flying    0.123609\n",
       "Steel / Fighting     0.123609\n",
       "Fire / Psychic       0.123609\n",
       "Ghost / Dark         0.123609\n",
       "Name: Type, Length: 159, dtype: float64"
      ]
     },
     "execution_count": 25,
     "metadata": {},
     "output_type": "execute_result"
    }
   ],
   "source": [
    "pokemon.value_counts(normalize = True) * 100"
   ]
  },
  {
   "cell_type": "markdown",
   "metadata": {},
   "source": [
    "## Uniqueness"
   ]
  },
  {
   "cell_type": "code",
   "execution_count": 26,
   "metadata": {},
   "outputs": [
    {
     "data": {
      "text/plain": [
       "159"
      ]
     },
     "execution_count": 26,
     "metadata": {},
     "output_type": "execute_result"
    }
   ],
   "source": [
    "pokemon.nunique()"
   ]
  },
  {
   "cell_type": "code",
   "execution_count": 27,
   "metadata": {},
   "outputs": [
    {
     "data": {
      "text/plain": [
       "array(['Grass / Ice', 'Psychic', 'Dark', 'Bug', 'Steel / Ghost',\n",
       "       'Rock / Flying', 'Steel / Rock', 'Normal', 'Water',\n",
       "       'Dragon / Flying', 'Rock / Ice', 'Grass / Poison', 'Electric',\n",
       "       'Rock / Bug', 'Water / Bug', 'Poison', 'Fire', 'Bug / Poison',\n",
       "       'Fairy', 'Ice / Flying', 'Ice', 'Dragon', 'Water / Fairy',\n",
       "       'Normal / Fairy', 'Ground / Psychic', 'Ghost', 'Rock / Water',\n",
       "       'Water / Ground', 'Rock / Steel', 'Grass', 'Bug / Flying',\n",
       "       'Steel / Psychic', 'Normal / Fighting', 'Normal / Water',\n",
       "       'Dark / Steel', 'Fire / Ghost', 'Fire / Fighting', 'Rock',\n",
       "       'Normal / Flying', 'Grass / Fighting', 'Water / Psychic',\n",
       "       'Bug / Fighting', 'Grass / Dark', 'Fire / Ground', 'Rock / Fairy',\n",
       "       'Water / Rock', 'Water / Dark', 'Psychic / Grass',\n",
       "       'Steel / Flying', 'Ghost / Fire', 'Fire / Flying',\n",
       "       'Bug / Electric', 'Water / Electric', 'Water / Ice',\n",
       "       'Steel / Fighting', 'Fighting', 'Grass / Fairy', 'Fighting / Ice',\n",
       "       'Rock / Grass', 'Poison / Fighting', 'Poison / Flying',\n",
       "       'Bug / Rock', 'Ground', 'Bug / Fairy', 'Grass / Flying',\n",
       "       'Grass / Ghost', 'Electric / Fairy', 'Normal / Grass',\n",
       "       'Dark / Dragon', 'Fire / Psychic', 'Ghost / Grass',\n",
       "       'Steel / Dragon', 'Normal / Ground', 'Poison / Dragon',\n",
       "       'Normal / Dragon', 'Poison / Dark', 'Ghost / Flying',\n",
       "       'Water / Flying', 'Bug / Steel', 'Electric / Flying',\n",
       "       'Water / Steel', 'Ground / Steel', 'Grass / Psychic',\n",
       "       'Grass / Steel', 'Ground / Dragon', 'Water / Ghost', 'Ice / Ghost',\n",
       "       'Dragon / Ground', 'Psychic / Fighting', 'Psychic / Fairy',\n",
       "       'Ghost / Poison', 'Rock / Ground', 'Normal / Psychic',\n",
       "       'Ghost / Dragon', 'Ground / Flying', 'Ground / Ghost',\n",
       "       'Bug / Water', 'Dragon / Fighting', 'Fighting / Flying',\n",
       "       'Fire / Steel', 'Electric / Normal', 'Dark / Flying',\n",
       "       'Psychic / Ghost', 'Dark / Fire', 'Fire / Dark', 'Dark / Psychic',\n",
       "       'Ice / Psychic', 'Water / Fighting', 'Water / Dragon', 'Steel',\n",
       "       'Steel / Fairy', 'Ground / Dark', 'Dragon / Ice', 'Bug / Fire',\n",
       "       'Dragon / Psychic', 'Bug / Grass', 'Fire / Normal',\n",
       "       'Water / Grass', 'Fighting / Steel', 'Psychic / Flying',\n",
       "       'Rock / Psychic', 'Fire / Rock', 'Electric / Steel',\n",
       "       'Ice / Ground', 'Poison / Water', 'Fighting / Ghost',\n",
       "       'Fighting / Psychic', 'Ghost / Fairy', 'Poison / Ground',\n",
       "       'Rock / Poison', 'Bug / Ground', 'Flying / Dragon',\n",
       "       'Ghost / Ground', 'Fighting / Dark', 'Water / Poison',\n",
       "       'Dragon / Fire', 'Ground / Rock', 'Electric / Ghost',\n",
       "       'Dark / Ghost', 'Poison / Fire', 'Dark / Fighting', 'Ice / Water',\n",
       "       'Bug / Ghost', 'Poison / Bug', 'Dark / Ice', 'Psychic / Steel',\n",
       "       'Ghost / Dark', 'Steel / Ground', 'Ground / Electric',\n",
       "       'Rock / Fighting', 'Fairy / Flying', 'Flying', 'Grass / Ground',\n",
       "       'Fire / Dragon', 'Rock / Dark', 'Rock / Dragon', 'Psychic / Fire',\n",
       "       'Fire / Water', 'Dragon / Electric'], dtype=object)"
      ]
     },
     "execution_count": 27,
     "metadata": {},
     "output_type": "execute_result"
    }
   ],
   "source": [
    "pokemon.unique()"
   ]
  },
  {
   "cell_type": "code",
   "execution_count": 28,
   "metadata": {},
   "outputs": [
    {
     "data": {
      "text/plain": [
       "Pokemon\n",
       "Abomasnow          Grass / Ice\n",
       "Abra                   Psychic\n",
       "Absol                     Dark\n",
       "Accelgor                   Bug\n",
       "Aegislash        Steel / Ghost\n",
       "                   ...        \n",
       "Tyranitar          Rock / Dark\n",
       "Tyrantrum        Rock / Dragon\n",
       "Victini         Psychic / Fire\n",
       "Volcanion         Fire / Water\n",
       "Zekrom       Dragon / Electric\n",
       "Name: Type, Length: 159, dtype: object"
      ]
     },
     "execution_count": 28,
     "metadata": {},
     "output_type": "execute_result"
    }
   ],
   "source": [
    "pokemon.drop_duplicates()"
   ]
  },
  {
   "cell_type": "markdown",
   "metadata": {},
   "source": [
    "## Select Rows by Index Position"
   ]
  },
  {
   "cell_type": "code",
   "execution_count": 29,
   "metadata": {},
   "outputs": [
    {
     "data": {
      "text/plain": [
       "Pokemon\n",
       "Abomasnow      Grass / Ice\n",
       "Abra               Psychic\n",
       "Absol                 Dark\n",
       "Accelgor               Bug\n",
       "Aegislash    Steel / Ghost\n",
       "Name: Type, dtype: object"
      ]
     },
     "execution_count": 29,
     "metadata": {},
     "output_type": "execute_result"
    }
   ],
   "source": [
    "pokemon.head()"
   ]
  },
  {
   "cell_type": "code",
   "execution_count": 30,
   "metadata": {},
   "outputs": [
    {
     "data": {
      "text/plain": [
       "'Grass / Ice'"
      ]
     },
     "execution_count": 30,
     "metadata": {},
     "output_type": "execute_result"
    }
   ],
   "source": [
    "pokemon.iloc[0]"
   ]
  },
  {
   "cell_type": "code",
   "execution_count": 31,
   "metadata": {},
   "outputs": [
    {
     "data": {
      "text/plain": [
       "'Grass / Fighting'"
      ]
     },
     "execution_count": 31,
     "metadata": {},
     "output_type": "execute_result"
    }
   ],
   "source": [
    "pokemon.iloc[100]"
   ]
  },
  {
   "cell_type": "code",
   "execution_count": 32,
   "metadata": {},
   "outputs": [],
   "source": [
    "# pokemon.iloc[10000]"
   ]
  },
  {
   "cell_type": "code",
   "execution_count": 33,
   "metadata": {},
   "outputs": [
    {
     "data": {
      "text/plain": [
       "Pokemon\n",
       "Abomasnow         Grass / Ice\n",
       "Accelgor                  Bug\n",
       "Aerodactyl      Rock / Flying\n",
       "Altaria       Dragon / Flying\n",
       "Name: Type, dtype: object"
      ]
     },
     "execution_count": 33,
     "metadata": {},
     "output_type": "execute_result"
    }
   ],
   "source": [
    "pokemon.iloc[[0, 3, 5, 10]]"
   ]
  },
  {
   "cell_type": "code",
   "execution_count": 34,
   "metadata": {},
   "outputs": [
    {
     "data": {
      "text/plain": [
       "Pokemon\n",
       "Chespin      Grass\n",
       "Chikorita    Grass\n",
       "Chimchar      Fire\n",
       "Name: Type, dtype: object"
      ]
     },
     "execution_count": 34,
     "metadata": {},
     "output_type": "execute_result"
    }
   ],
   "source": [
    "pokemon.iloc[101:104]"
   ]
  },
  {
   "cell_type": "code",
   "execution_count": 35,
   "metadata": {},
   "outputs": [
    {
     "data": {
      "text/plain": [
       "Pokemon\n",
       "Zapdos       Electric / Flying\n",
       "Zebstrika             Electric\n",
       "Zekrom       Dragon / Electric\n",
       "Zeraora               Electric\n",
       "Zigzagoon               Normal\n",
       "Zoroark                   Dark\n",
       "Zorua                     Dark\n",
       "Name: Type, dtype: object"
      ]
     },
     "execution_count": 35,
     "metadata": {},
     "output_type": "execute_result"
    }
   ],
   "source": [
    "pokemon.iloc[-10:-3]"
   ]
  },
  {
   "cell_type": "code",
   "execution_count": 36,
   "metadata": {},
   "outputs": [
    {
     "data": {
      "text/plain": [
       "Pokemon\n",
       "Zekrom       Dragon / Electric\n",
       "Zeraora               Electric\n",
       "Zigzagoon               Normal\n",
       "Zoroark                   Dark\n",
       "Zorua                     Dark\n",
       "Zubat          Poison / Flying\n",
       "Zweilous         Dark / Dragon\n",
       "Zygarde        Dragon / Ground\n",
       "Name: Type, dtype: object"
      ]
     },
     "execution_count": 36,
     "metadata": {},
     "output_type": "execute_result"
    }
   ],
   "source": [
    "pokemon.iloc[-8:]"
   ]
  },
  {
   "cell_type": "code",
   "execution_count": 37,
   "metadata": {},
   "outputs": [
    {
     "data": {
      "text/plain": [
       "Pokemon\n",
       "Abomasnow    Grass / Ice\n",
       "Abra             Psychic\n",
       "Absol               Dark\n",
       "Accelgor             Bug\n",
       "Name: Type, dtype: object"
      ]
     },
     "execution_count": 37,
     "metadata": {},
     "output_type": "execute_result"
    }
   ],
   "source": [
    "pokemon.iloc[:4]"
   ]
  },
  {
   "cell_type": "code",
   "execution_count": null,
   "metadata": {},
   "outputs": [],
   "source": []
  },
  {
   "cell_type": "markdown",
   "metadata": {},
   "source": [
    "## Select Rows by Index Label"
   ]
  },
  {
   "cell_type": "code",
   "execution_count": 38,
   "metadata": {},
   "outputs": [
    {
     "data": {
      "text/plain": [
       "Pokemon\n",
       "Abomasnow      Grass / Ice\n",
       "Abra               Psychic\n",
       "Absol                 Dark\n",
       "Accelgor               Bug\n",
       "Aegislash    Steel / Ghost\n",
       "Name: Type, dtype: object"
      ]
     },
     "execution_count": 38,
     "metadata": {},
     "output_type": "execute_result"
    }
   ],
   "source": [
    "pokemon.head()"
   ]
  },
  {
   "cell_type": "code",
   "execution_count": 39,
   "metadata": {},
   "outputs": [
    {
     "data": {
      "text/plain": [
       "'Electric'"
      ]
     },
     "execution_count": 39,
     "metadata": {},
     "output_type": "execute_result"
    }
   ],
   "source": [
    "pokemon.loc[\"Pikachu\"]"
   ]
  },
  {
   "cell_type": "code",
   "execution_count": 40,
   "metadata": {},
   "outputs": [
    {
     "data": {
      "text/plain": [
       "'Fire / Flying'"
      ]
     },
     "execution_count": 40,
     "metadata": {},
     "output_type": "execute_result"
    }
   ],
   "source": [
    "pokemon.loc[\"Charizard\"]"
   ]
  },
  {
   "cell_type": "code",
   "execution_count": 41,
   "metadata": {},
   "outputs": [
    {
     "data": {
      "text/plain": [
       "Pokemon\n",
       "Pikachu             Electric\n",
       "Mewtwo               Psychic\n",
       "Dragonite    Dragon / Flying\n",
       "Name: Type, dtype: object"
      ]
     },
     "execution_count": 41,
     "metadata": {},
     "output_type": "execute_result"
    }
   ],
   "source": [
    "pokemon.loc[[\"Pikachu\", \"Mewtwo\", \"Dragonite\"]]"
   ]
  },
  {
   "cell_type": "code",
   "execution_count": 42,
   "metadata": {},
   "outputs": [],
   "source": [
    "# pokemon.loc[\"nonsense\"]"
   ]
  },
  {
   "cell_type": "code",
   "execution_count": null,
   "metadata": {},
   "outputs": [],
   "source": []
  },
  {
   "cell_type": "code",
   "execution_count": null,
   "metadata": {},
   "outputs": [],
   "source": []
  },
  {
   "cell_type": "code",
   "execution_count": null,
   "metadata": {},
   "outputs": [],
   "source": []
  },
  {
   "cell_type": "code",
   "execution_count": null,
   "metadata": {},
   "outputs": [],
   "source": []
  },
  {
   "cell_type": "code",
   "execution_count": null,
   "metadata": {},
   "outputs": [],
   "source": []
  },
  {
   "cell_type": "code",
   "execution_count": null,
   "metadata": {},
   "outputs": [],
   "source": []
  },
  {
   "cell_type": "code",
   "execution_count": null,
   "metadata": {},
   "outputs": [],
   "source": []
  },
  {
   "cell_type": "code",
   "execution_count": null,
   "metadata": {},
   "outputs": [],
   "source": []
  },
  {
   "cell_type": "code",
   "execution_count": null,
   "metadata": {},
   "outputs": [],
   "source": []
  },
  {
   "cell_type": "code",
   "execution_count": null,
   "metadata": {},
   "outputs": [],
   "source": []
  }
 ],
 "metadata": {
  "kernelspec": {
   "display_name": "Python 3",
   "language": "python",
   "name": "python3"
  },
  "language_info": {
   "codemirror_mode": {
    "name": "ipython",
    "version": 3
   },
   "file_extension": ".py",
   "mimetype": "text/x-python",
   "name": "python",
   "nbconvert_exporter": "python",
   "pygments_lexer": "ipython3",
   "version": "3.7.7"
  }
 },
 "nbformat": 4,
 "nbformat_minor": 4
}
